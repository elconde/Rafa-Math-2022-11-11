{
 "cells": [
  {
   "cell_type": "code",
   "execution_count": 2,
   "id": "ecc04259",
   "metadata": {},
   "outputs": [
    {
     "data": {
      "text/plain": [
       "-1.9999999999999996"
      ]
     },
     "execution_count": 2,
     "metadata": {},
     "output_type": "execute_result"
    }
   ],
   "source": [
    "((1/5)-(1/3))/9*135"
   ]
  },
  {
   "cell_type": "code",
   "execution_count": 6,
   "id": "b72c5bb1",
   "metadata": {},
   "outputs": [],
   "source": [
    "import fractions\n",
    "\n",
    "from fractions import Fraction as f"
   ]
  },
  {
   "cell_type": "code",
   "execution_count": 8,
   "id": "faffd08a",
   "metadata": {},
   "outputs": [
    {
     "data": {
      "text/plain": [
       "Fraction(80, 11)"
      ]
     },
     "execution_count": 8,
     "metadata": {},
     "output_type": "execute_result"
    }
   ],
   "source": [
    "f(16,5)/(f(16,25)-f(1,5))"
   ]
  },
  {
   "cell_type": "code",
   "execution_count": 9,
   "id": "22acaf79",
   "metadata": {},
   "outputs": [
    {
     "data": {
      "text/plain": [
       "Fraction(32, 57)"
      ]
     },
     "execution_count": 9,
     "metadata": {},
     "output_type": "execute_result"
    }
   ],
   "source": [
    "f(4,9)/(f(1,8)+f(2,3))"
   ]
  },
  {
   "cell_type": "code",
   "execution_count": null,
   "id": "0a45957a",
   "metadata": {},
   "outputs": [],
   "source": []
  },
  {
   "cell_type": "code",
   "execution_count": 28,
   "id": "9db5d141",
   "metadata": {},
   "outputs": [
    {
     "name": "stdout",
     "output_type": "stream",
     "text": [
      "139/60 53/420\n",
      "973/53\n"
     ]
    }
   ],
   "source": [
    "numerator = f(5,4)+f(16,15)\n",
    "denominator = f(7,12)-f(16,35)\n",
    "\n",
    "print(numerator, denominator)\n",
    "print(numerator/denominator)"
   ]
  },
  {
   "cell_type": "code",
   "execution_count": 30,
   "id": "76f92659",
   "metadata": {},
   "outputs": [
    {
     "data": {
      "text/plain": [
       "Fraction(-5, 12)"
      ]
     },
     "execution_count": 30,
     "metadata": {},
     "output_type": "execute_result"
    }
   ],
   "source": [
    "(f(1,3)-f(8,9))/(f(4,3))"
   ]
  },
  {
   "cell_type": "code",
   "execution_count": 32,
   "id": "ea49679b",
   "metadata": {},
   "outputs": [
    {
     "data": {
      "text/plain": [
       "Fraction(43, 35)"
      ]
     },
     "execution_count": 32,
     "metadata": {},
     "output_type": "execute_result"
    }
   ],
   "source": [
    "(f(18,5)+f(2,9))/(f(8,3)+f(4,9))"
   ]
  },
  {
   "cell_type": "code",
   "execution_count": 33,
   "id": "041310bd",
   "metadata": {},
   "outputs": [
    {
     "data": {
      "text/plain": [
       "Fraction(-112, 225)"
      ]
     },
     "execution_count": 33,
     "metadata": {},
     "output_type": "execute_result"
    }
   ],
   "source": [
    "(f(4,25)-f(16,25))/(f(5,4)-f(2,7))"
   ]
  },
  {
   "cell_type": "code",
   "execution_count": 35,
   "id": "1936bfa6",
   "metadata": {},
   "outputs": [
    {
     "name": "stdout",
     "output_type": "stream",
     "text": [
      "3/2 119/5 15/238\n"
     ]
    }
   ],
   "source": [
    "numerator = (f(2,3)+f(5,6))\n",
    "denominator = (f(49,2)-f(7,10))\n",
    "\n",
    "print(numerator, denominator, numerator/denominator)"
   ]
  }
 ],
 "metadata": {
  "kernelspec": {
   "display_name": "Python 3 (ipykernel)",
   "language": "python",
   "name": "python3"
  },
  "language_info": {
   "codemirror_mode": {
    "name": "ipython",
    "version": 3
   },
   "file_extension": ".py",
   "mimetype": "text/x-python",
   "name": "python",
   "nbconvert_exporter": "python",
   "pygments_lexer": "ipython3",
   "version": "3.10.8"
  }
 },
 "nbformat": 4,
 "nbformat_minor": 5
}
